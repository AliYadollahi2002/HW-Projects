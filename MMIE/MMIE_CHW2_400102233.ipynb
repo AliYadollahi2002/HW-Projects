{
  "cells": [
    {
      "cell_type": "markdown",
      "metadata": {
        "id": "view-in-github",
        "colab_type": "text"
      },
      "source": [
        "<a href=\"https://colab.research.google.com/github/AliYadollahi2002/MMIE_CHW2/blob/main/MMIE_CHW2_400102233.ipynb\" target=\"_parent\"><img src=\"https://colab.research.google.com/assets/colab-badge.svg\" alt=\"Open In Colab\"/></a>"
      ]
    },
    {
      "cell_type": "markdown",
      "metadata": {
        "id": "d968GB0cQAF4"
      },
      "source": [
        "<h1 align=\"center\">Mathematical Methods In Engineering - 25872</h1>\n",
        "<h3 align=\"center\">Dr. Amiri</h4>\n",
        "<h4 align=\"center\">Sharif University of Technology, Fall 2023</h4>\n",
        "<h4 align=\"center\">Python Assignment</h4>\n",
        "<h5 align=\"center\"><font color=\"cyan\"> Feel free to contact TA team for any possible questions about the assignment </font>\n",
        " </h5>\n",
        "<h5 align=\"center\"> <font color=\"cyan\"> Questions 1,2: @Ilia_ad7  -  Question 3: @MhShafieizadegan </font> </h5>"
      ]
    },
    {
      "cell_type": "markdown",
      "metadata": {
        "id": "caQ3C8HjQAGC"
      },
      "source": [
        "You should write your code in the <font color='green'>Code Cell</font> and then run the <font color='green'>Evaluation Cell</font> to check the correctness of your code.<br>\n",
        "<font color='red'>**Please do not edit the codes in the Evaluation Cells.**</font>"
      ]
    },
    {
      "cell_type": "markdown",
      "metadata": {
        "id": "AOghx1BQQAGD"
      },
      "source": [
        "## 1. Prediction with Least Squares\n",
        "* Fit a polynomial of degree $K$ to all columns of the following dataset\n",
        "to predict number of \"Cars\" and \"Buses\" in the years of $2016$,$2017$,$2018$,$2019$ and $2020$.\n",
        "\n",
        "\n",
        "$$\n",
        "y_i = \\sum_{k=0}^K w_k x_{i}^k + \\epsilon_i\n",
        "$$\n",
        "\n",
        "\n",
        "Change the value of $K$ from 3 to 5. For each degree, plot the data and your model fit and compare the results.\n",
        "\n",
        "``(25 pt.)``"
      ]
    },
    {
      "cell_type": "code",
      "execution_count": null,
      "metadata": {
        "id": "QouXjjezQAGF"
      },
      "outputs": [],
      "source": [
        "import pandas as pd\n",
        "import numpy as np\n",
        "import matplotlib.pyplot as plt\n",
        "from scipy.optimize import curve_fit\n",
        "from matplotlib.colors import ListedColormap"
      ]
    },
    {
      "cell_type": "code",
      "execution_count": null,
      "metadata": {
        "id": "MFoiKt9YQAGJ",
        "outputId": "49b0a346-1c86-4950-e223-979b1365e65f"
      },
      "outputs": [
        {
          "data": {
            "text/plain": [
              "<Figure size 432x288 with 0 Axes>"
            ]
          },
          "metadata": {},
          "output_type": "display_data"
        }
      ],
      "source": [
        "# Code cell\n",
        "\n",
        "def Ls(y,b, k):\n",
        "    year = y.copy()\n",
        "    avg = np.average(year)\n",
        "    for i in range (len(year)):\n",
        "        year[i] =(year[i] - avg)\n",
        "    A = np.zeros([len(year),k+1])\n",
        "    for i in range(50):\n",
        "        for j in range(k+1):\n",
        "            A[i,j] = year[i]**j\n",
        "    t1=np.matmul(np.transpose(A),A)\n",
        "    t2 = np.matmul(np.linalg.inv(t1),np.transpose(A))\n",
        "    return A,np.matmul(t2,b)\n",
        "def new_A(A ,y,k):\n",
        "    year = y.copy()\n",
        "    avg = np.average(year)\n",
        "    A_prime = np.zeros([5 , k+1])\n",
        "    new_years = np.array([2016 , 2017 , 2018 , 2019 , 2020])\n",
        "    for i in range(5):\n",
        "        for j in range(k+1):\n",
        "            A_prime[i , j] = (new_years[i] - avg)**j\n",
        "    return np.append([A] , [A_prime] , axis = 1)\n",
        "\n",
        "df = pd.read_csv(\"arac.csv\" , sep=\";\")\n",
        "cars = df['Car']\n",
        "years = df['Year']\n",
        "buses = df['Bus']\n",
        "years_new = np.append(years , [2016, 2017, 2018, 2019, 2020])\n",
        "#cars #k=3\n",
        "A_c3 , x_ls_c3 = Ls(years , cars , 3)\n",
        "A_p_c3 = new_A(A_c3 , years , 3)\n",
        "new_y_c3 = np.matmul(A_p_c3 , x_ls_c3)\n",
        "#cars #k=4\n",
        "A_c4 , x_ls_c4 = Ls(years , cars , 4)\n",
        "A_p_c4 = new_A(A_c4 ,years , 4)\n",
        "new_y_c4 = np.matmul(A_p_c4 , x_ls_c4)\n",
        "fig = plt.figure()\n",
        "#cars #k=5\n",
        "A_c5, x_ls_c5= Ls(years , cars , 5)\n",
        "A_p_c5= new_A(A_c5, years , 5)\n",
        "new_y_c5= np.matmul(A_p_c5, x_ls_c5)\n",
        "#buses #k = 3\n",
        "A_b3 , x_ls_b3= Ls(years , buses , 3)\n",
        "A_p_b3= new_A(A_b3, years , 3)\n",
        "new_y_b3= np.matmul(A_p_b3, x_ls_b3)\n",
        "#buses #k = 4\n",
        "A_b4 , x_ls_b4= Ls(years , buses , 4)\n",
        "A_p_b4= new_A(A_b4, years , 4)\n",
        "new_y_b4= np.matmul(A_p_b4, x_ls_b4)\n",
        "#buses #k = 5\n",
        "A_b5 , x_ls_b5= Ls(years , buses , 5)\n",
        "A_p_b5= new_A(A_b5, years , 5)\n",
        "new_y_b5= np.matmul(A_p_b5, x_ls_b5)"
      ]
    },
    {
      "cell_type": "code",
      "execution_count": null,
      "metadata": {
        "id": "hwfGoXW4QAGN",
        "outputId": "509bcbd1-b719-48ad-e0d6-969c1b5da5a1"
      },
      "outputs": [
        {
          "data": {
            "image/png": "[encoded data removed]",
            "text/plain": [
              "<Figure size 432x288 with 1 Axes>"
            ]
          },
          "metadata": {
            "needs_background": "light"
          },
          "output_type": "display_data"
        }
      ],
      "source": [
        "fig = plt.figure()\n",
        "ax1 = fig.add_subplot(111)\n",
        "\n",
        "ax1.scatter(years,cars, s=10, c='b', marker=\"o\", label='original')\n",
        "ax1.scatter(years_new,new_y_c3, s=10, c='r', marker=\"o\", label='curve fitted')\n",
        "plt.legend(loc='upper left');\n",
        "plt.title('cars (k=3)')\n",
        "plt.show()"
      ]
    },
    {
      "cell_type": "code",
      "execution_count": null,
      "metadata": {
        "id": "ruFRviluQAGO",
        "outputId": "a0d80fca-2f66-441c-9069-c51362a5fd1f"
      },
      "outputs": [
        {
          "data": {
            "image/png": "[encoded data removed]",
            "text/plain": [
              "<Figure size 432x288 with 1 Axes>"
            ]
          },
          "metadata": {
            "needs_background": "light"
          },
          "output_type": "display_data"
        }
      ],
      "source": [
        "fig = plt.figure()\n",
        "ax1 = fig.add_subplot(111)\n",
        "\n",
        "ax1.scatter(years,cars, s=10, c='b', marker=\"o\", label='original')\n",
        "ax1.scatter(years_new,new_y_c4, s=10, c='r', marker=\"o\", label='curve fitted')\n",
        "plt.legend(loc='upper left');\n",
        "plt.title('cars (k=4)')\n",
        "plt.show()"
      ]
    },
    {
      "cell_type": "code",
      "execution_count": null,
      "metadata": {
        "id": "4T-dys32QAGQ",
        "outputId": "5b860531-329c-4ab3-f263-e156f4fc3b37"
      },
      "outputs": [
        {
          "data": {
            "image/png": "[encoded data removed]",
            "text/plain": [
              "<Figure size 432x288 with 1 Axes>"
            ]
          },
          "metadata": {
            "needs_background": "light"
          },
          "output_type": "display_data"
        }
      ],
      "source": [
        "fig = plt.figure()\n",
        "ax1 = fig.add_subplot(111)\n",
        "\n",
        "ax1.scatter(years,cars, s=10, c='b', marker=\"o\", label='original')\n",
        "ax1.scatter(years_new,new_y_c5, s=10, c='r', marker=\"o\", label='curve fitted')\n",
        "plt.legend(loc='upper left');\n",
        "plt.title('cars (k=5)')\n",
        "plt.show()"
      ]
    },
    {
      "cell_type": "code",
      "execution_count": null,
      "metadata": {
        "id": "WWJz2dhIQAGR",
        "outputId": "499a1435-7e6d-48a6-e136-e348e322da55"
      },
      "outputs": [
        {
          "data": {
            "image/png": "[encoded data removed]",
            "text/plain": [
              "<Figure size 432x288 with 1 Axes>"
            ]
          },
          "metadata": {
            "needs_background": "light"
          },
          "output_type": "display_data"
        }
      ],
      "source": [
        "fig = plt.figure()\n",
        "ax1 = fig.add_subplot(111)\n",
        "\n",
        "ax1.scatter(years,buses, s=10, c='b', marker=\"o\", label='original')\n",
        "ax1.scatter(years_new,new_y_b3, s=10, c='r', marker=\"o\", label='curve fitted')\n",
        "plt.legend(loc='upper left');\n",
        "plt.title('buses (k=3)')\n",
        "plt.show()"
      ]
    },
    {
      "cell_type": "code",
      "execution_count": null,
      "metadata": {
        "id": "CggSglYhQAGT",
        "outputId": "285941c5-dae2-4fb0-81e2-7cca2d1c0fa2"
      },
      "outputs": [
        {
          "data": {
            "image/png": "[encoded data removed]",
            "text/plain": [
              "<Figure size 432x288 with 1 Axes>"
            ]
          },
          "metadata": {
            "needs_background": "light"
          },
          "output_type": "display_data"
        }
      ],
      "source": [
        "fig = plt.figure()\n",
        "ax1 = fig.add_subplot(111)\n",
        "\n",
        "ax1.scatter(years,buses, s=10, c='b', marker=\"o\", label='original')\n",
        "ax1.scatter(years_new,new_y_b4, s=10, c='r', marker=\"o\", label='curve fitted')\n",
        "plt.legend(loc='upper left');\n",
        "plt.title('buses (k=4)')\n",
        "plt.show()"
      ]
    },
    {
      "cell_type": "code",
      "execution_count": null,
      "metadata": {
        "id": "q51bn5pZQAGU",
        "outputId": "b5a2f7fa-9b62-41e7-dff1-4a9d4a4054dd"
      },
      "outputs": [
        {
          "data": {
            "image/png": "[encoded data removed]",
            "text/plain": [
              "<Figure size 432x288 with 1 Axes>"
            ]
          },
          "metadata": {
            "needs_background": "light"
          },
          "output_type": "display_data"
        }
      ],
      "source": [
        "fig = plt.figure()\n",
        "ax1 = fig.add_subplot(111)\n",
        "\n",
        "ax1.scatter(years,buses, s=10, c='b', marker=\"o\", label='original')\n",
        "ax1.scatter(years_new,new_y_b5, s=10, c='r', marker=\"o\", label='curve fitted')\n",
        "plt.legend(loc='upper left');\n",
        "plt.title('buses (k=5)')\n",
        "plt.show()"
      ]
    },
    {
      "cell_type": "markdown",
      "metadata": {
        "id": "QeBv2hOhQAGW"
      },
      "source": [
        "## 2. KMeans Clustering (LSE approach)\n",
        "\n",
        "You are given a dataset of **600** points in a **2-dimensional** space, which have come from **3 different distributions**. The dataset is stored in a file called **Image.csv**, which has two columns: **x** and **y**. You want to use **K-means** to cluster the data points into **K** groups, and analyze the results.\n",
        "\n",
        "- Part 1: Write a Python function called **load_data** that takes the file name **Image.csv** as an input and returns a numpy array **X**. **X** should be a **600 by 2** matrix, where each row is a point in the 2-dimensional space. ``(5 pt.)``"
      ]
    },
    {
      "cell_type": "code",
      "execution_count": null,
      "metadata": {
        "id": "c_Q5snrGQAGW"
      },
      "outputs": [],
      "source": [
        "def load_data(file_name):\n",
        "    datas_2 = pd.read_csv('image.csv',header = None)\n",
        "    a = np.array(datas_2[0])\n",
        "    b = np.array(datas_2[1])\n",
        "    X = np.transpose(np.vstack((a , b)))\n",
        "    #pass\n",
        "    return X"
      ]
    },
    {
      "cell_type": "code",
      "execution_count": null,
      "metadata": {
        "id": "aaXadph9QAGX"
      },
      "outputs": [],
      "source": [
        "def initializing_centeroids(X , k):\n",
        "    np.random.seed(400102233)\n",
        "    gen = np.random.default_rng()\n",
        "    return gen.choice(X, k, replace=False)"
      ]
    },
    {
      "cell_type": "code",
      "execution_count": null,
      "metadata": {
        "id": "BOIYBvhDQAGY"
      },
      "outputs": [],
      "source": [
        "def rsserr(a,b):\n",
        "    return np.square(np.sum((a-b)**2))"
      ]
    },
    {
      "cell_type": "code",
      "execution_count": null,
      "metadata": {
        "id": "zoumwaf0QAGZ"
      },
      "outputs": [],
      "source": [
        "def assigning_centeroids(X , M ):\n",
        "    n = len(X)\n",
        "    assignation = []\n",
        "    assign_errors = []\n",
        "\n",
        "    for x in X:\n",
        "        all_errors = np.array([])\n",
        "        for m in M:\n",
        "            err = rsserr(x , m)\n",
        "            all_errors = np.append(all_errors, err)\n",
        "        err_min = all_errors[0]\n",
        "        index = 0\n",
        "        for i in range(len(all_errors)):\n",
        "            if (all_errors[i] < err_min):\n",
        "                err_min = all_errors[i]\n",
        "                index = i\n",
        "        assignation.append(index)\n",
        "        assign_errors.append(all_errors[index])\n",
        "    return assignation, assign_errors"
      ]
    },
    {
      "cell_type": "code",
      "execution_count": null,
      "metadata": {
        "id": "_zqiutiUQAGa"
      },
      "outputs": [],
      "source": [
        "def reassigncenteroids(M , assigments , X , k):\n",
        "    M_p = np.zeros((k , 2))\n",
        "    for i in range(k):\n",
        "        count = 0\n",
        "        s_x = 0\n",
        "        s_y = 0\n",
        "        for g in range(len(assigments)):\n",
        "            if assigments[g] == i:\n",
        "                s_x = s_x + X[g][0]\n",
        "                s_y = s_y + X[g][1]\n",
        "                count = count + 1\n",
        "        M_p[i][0] = s_x/count\n",
        "        M_p[i][1] = s_y/count\n",
        "    return M_p"
      ]
    },
    {
      "cell_type": "markdown",
      "metadata": {
        "id": "7m6MBelJQAGb"
      },
      "source": [
        "- Part 2: Write a Python function called **kmeans** that takes **X** and **K** as inputs and returns two numpy arrays: **M** and **U**. Use the **K-means(LSE approach)** algorithm as described below to find the optimal cluster centroids and assignments. ``(15 pt.)``\n",
        "\n",
        "The general approach of the k-means clustering algorithm is as follows:\n",
        "\n",
        "- The algorithm takes two inputs: the data matrix X of size n by d, where n is the number of data points and d is the dimension of each data point, and the number of clusters K.\n",
        "- The algorithm outputs two matrices: the cluster centroid matrix M of size K by d, where each row represents the coordinates of a cluster center, and the cluster assignment matrix U of size n by K, where each row represents the membership of a data point to a cluster.\n",
        "- The algorithm works by first initializing the M matrix randomly from the data points in X; and then iteratively updating the cluster centroids and the cluster assignments until convergence, which means that the total squared error between the data points and their assigned cluster centroids does not change.\n",
        "- The algorithm uses the least squares error (LSE) method to measure the quality of the clustering. The LSE method is a way of quantifying how well the cluster centroids fit the data points, by minimizing the sum of the squared distances between each data point and its assigned cluster centroid. The LSE method is used in both steps of the algorithm: assigning the data points to the nearest cluster centroid, and updating the cluster centroids as the mean of the assigned data points.\n"
      ]
    },
    {
      "cell_type": "code",
      "execution_count": null,
      "metadata": {
        "id": "4V_ZUkSkQAGb"
      },
      "outputs": [],
      "source": [
        "def kmeans(X, k):\n",
        "    t = 1e-4\n",
        "    n = len(X)\n",
        "    end = False\n",
        "    M = initializing_centeroids(X , k)\n",
        "    temp = np.zeros((1 , n))\n",
        "    while(end == False):\n",
        "        assigments,errors = assigning_centeroids(X , M)\n",
        "        n = 600\n",
        "        U = np.zeros((n , k))\n",
        "        for i in range(n):\n",
        "            U[i , assigments[i]] = 1\n",
        "            np_errs = np.array(errors)\n",
        "        if np.all(np_errs - temp < t):\n",
        "            end = True\n",
        "        else :\n",
        "            M = reassigncenteroids(M , assigments , X , k)\n",
        "        temp = np_errs\n",
        "    return M, U"
      ]
    },
    {
      "cell_type": "markdown",
      "metadata": {
        "id": "-bxONuVpQAGc"
      },
      "source": [
        "- Part 3: Write a Python function called **plot_clusters** that takes **X**, **M**, and **U** as inputs and plots the data points and the centroids on a 2-dimensional plane. Use different colors and markers for the different clusters, and draw a circle around each centroid. Label the axes as **x** and **y**, and add a title and a legend to the plot. ``(10 pt.)``"
      ]
    },
    {
      "cell_type": "code",
      "execution_count": null,
      "metadata": {
        "id": "e2mquUevQAGd"
      },
      "outputs": [],
      "source": [
        "def plot_clusters(X, M, U):\n",
        "    import matplotlib.cm as cm\n",
        "    n = len(X)\n",
        "    k = len(M)\n",
        "    U_p = np.zeros((n , 1))\n",
        "    for i in range(n):\n",
        "        for j in range(k):\n",
        "            if U[i][j]==1:\n",
        "                U_p[i] = j\n",
        "    extracted = []\n",
        "    fig , ax = plt.subplots(figsize=(8, 6))\n",
        "\n",
        "    for i in range(k):\n",
        "        ext = []\n",
        "        for j in range(len(U_p)):\n",
        "            if (U_p[j] == i):\n",
        "                ext.append(X[j])\n",
        "        ext = np.array(ext)\n",
        "        ax.scatter(ext[: , 0] , ext[ : , 1] , cmap = 'hsv ' ,label = i+1)\n",
        "\n",
        "    ax.legend()\n",
        "    plt.title('kmap')\n",
        "    ax.scatter(M[:,0], M[:,1],\n",
        "            facecolors='none', edgecolors='0', s=200 )\n",
        "\n",
        "    ax.set_xlabel(r'x', fontsize=14)\n",
        "    ax.set_ylabel(r'y', fontsize=14)\n",
        "\n",
        "    plt.show()"
      ]
    },
    {
      "cell_type": "markdown",
      "metadata": {
        "id": "CBF5m7xGQAGe"
      },
      "source": [
        "**<font color=\"red\"> Don't edit the code in the following cell!</font>**"
      ]
    },
    {
      "cell_type": "code",
      "execution_count": null,
      "metadata": {
        "id": "sjIMGP3hQAGe",
        "outputId": "01b60f1b-014e-47b4-bce2-714b030ec6eb"
      },
      "outputs": [
        {
          "name": "stdout",
          "output_type": "stream",
          "text": [
            "600\n",
            "3\n"
          ]
        },
        {
          "data": {
            "image/png": "[encoded data removed]",
            "text/plain": [
              "<Figure size 576x432 with 1 Axes>"
            ]
          },
          "metadata": {
            "needs_background": "light"
          },
          "output_type": "display_data"
        }
      ],
      "source": [
        "# Evaluation Cell\n",
        "\n",
        "# Load the data from the file\n",
        "X = load_data('Image.csv')\n",
        "# Set the value of K\n",
        "K = 3\n",
        "# Cluster the data using K-means\n",
        "M, U = kmeans(X, K)\n",
        "# Plot the data and the centroids\n",
        "plot_clusters(X, M, U)"
      ]
    },
    {
      "cell_type": "markdown",
      "metadata": {
        "id": "W_Qrgql8QAGf"
      },
      "source": [
        " Analyze the results of the K-means-LSE clustering. How well do they match the underlying distributions? What are the advantages and disadvantages of this method? ``(5 pt.)``"
      ]
    },
    {
      "cell_type": "markdown",
      "metadata": {
        "id": "fGcp6H3oQAGg"
      },
      "source": [
        "- Part 4: Write a Python function called **elbow_method** that takes **X** and a list of possible values for **K** as inputs and returns a numpy vector **S** of the same size as the list. **S** should contain the **sum of squared errors (SSE)** for each value of **K**, where the SSE is defined as the sum of the squared distances between each point and its assigned centroid. Plot **S** versus **K** and use the **elbow method** to find the best value of **K** for the data. Explain your reasoning and show your work. ``(15 pt.)``"
      ]
    },
    {
      "cell_type": "code",
      "execution_count": null,
      "metadata": {
        "id": "nVgdJBcbQAGh",
        "outputId": "dd94ccbf-9fb2-4c1b-8f3c-dc5285eff859"
      },
      "outputs": [
        {
          "data": {
            "image/png": "[encoded data removed]",
            "text/plain": [
              "<Figure size 432x288 with 1 Axes>"
            ]
          },
          "metadata": {
            "needs_background": "light"
          },
          "output_type": "display_data"
        }
      ],
      "source": [
        "def elbow_method(X, K_list):\n",
        "    S =  []\n",
        "    for k in K_list:\n",
        "        t = 1e-4\n",
        "        n = 600\n",
        "        end = False\n",
        "        M = initializing_centeroids(X , k)\n",
        "        temp = np.zeros((1 , n))\n",
        "        while(end == False):\n",
        "            assigments,errors = assigning_centeroids(X , M)\n",
        "            #this should be changed\n",
        "            n = 600\n",
        "            U = np.zeros((n , k))\n",
        "            np_errs = np.array(errors)\n",
        "            if np.all(np_errs - temp < t):\n",
        "                end = True\n",
        "            else :\n",
        "                M = reassigncenteroids(M , assigments , X , k)\n",
        "            temp = np_errs\n",
        "        summ = 0\n",
        "        for e in np_errs:\n",
        "            summ = summ + e**2\n",
        "        S.append(summ)\n",
        "\n",
        "    return S\n",
        "\n",
        "K_list = range(1 , 10)\n",
        "S = elbow_method(X , K_list)\n",
        "plt.plot(K_list, S, linewidth=3, marker='o')\n",
        "ax.set_xlabel(r'Number of clusters', fontsize=14)\n",
        "ax.set_ylabel(r'Total error', fontsize=14)\n",
        "plt.xticks(fontsize=12)\n",
        "plt.yticks(fontsize=12)\n",
        "plt.show()"
      ]
    },
    {
      "cell_type": "markdown",
      "metadata": {
        "id": "xJKP3rD6QAGi"
      },
      "source": [
        "نقطه ای که پس از آن نمودار تقریبا خطی می شود بهترین نقطه مورد نظر است که با توجه به شکل برای این داده ها 3 بهترین مقدار خواهد بود"
      ]
    },
    {
      "cell_type": "markdown",
      "metadata": {
        "id": "elof00U1QAGk"
      },
      "source": [
        "# 3. Sentiment Analysis using Linear Regression\n",
        "\n",
        "### Introduction\n",
        "Sentiment analysis is a technique used to determine the sentiment or opinion expressed in text data. In this assignment, we will explore the application of linear regression for sentiment analysis on a dataset of movies reviews. The goal is to build a model that can predict the sentiment score of new text documents based on the extracted features.\n",
        "\n",
        "**Note: In this question, feel free to use built-in functions implemented in different python packages. One of the goals of this question is to make you familiar with using built-in functions in python**"
      ]
    },
    {
      "cell_type": "markdown",
      "metadata": {
        "id": "D2KQtDVUQAGl"
      },
      "source": [
        "### Import required packages and libraries\n",
        "\n",
        "Make sure you have installed all of the following packages before.\n",
        "\n",
        "Use the following command in terminal for installing packages.\n",
        "```\n",
        "pip install [package_name]\n",
        "```"
      ]
    },
    {
      "cell_type": "code",
      "execution_count": null,
      "metadata": {
        "id": "YxPUcKWkQAGl"
      },
      "outputs": [],
      "source": [
        "import pandas as pd\n",
        "from sklearn.model_selection import train_test_split\n",
        "from sklearn.feature_extraction.text import CountVectorizer\n",
        "from sklearn.linear_model import LinearRegression\n",
        "from sklearn.metrics import mean_squared_error\n",
        "import re\n",
        "import nltk\n",
        "from nltk.corpus import stopwords\n",
        "from nltk.tokenize import word_tokenize\n",
        "import matplotlib.pyplot as plt"
      ]
    },
    {
      "cell_type": "markdown",
      "metadata": {
        "id": "cVJZpENqQAGm"
      },
      "source": [
        "### Load and Inspect the Dataset\n",
        "\n",
        "Load the \"sentiment.csv\" dataset and follow the instructions below:\n",
        "1. Display the first 25 rows and its last 10 rows of the dataset.\n",
        "2. Print the information about all columns of data frame.\n",
        "3. plot the histogram of the sentiments scores.\n",
        "\n",
        "``(5 pt.)``"
      ]
    },
    {
      "cell_type": "code",
      "execution_count": null,
      "metadata": {
        "id": "0zV0gwWCQAGn",
        "outputId": "e9d1c705-980d-4aa0-c1ab-7f9765750aee"
      },
      "outputs": [
        {
          "data": {
            "text/html": [
              "<div>\n",
              "<style scoped>\n",
              "    .dataframe tbody tr th:only-of-type {\n",
              "        vertical-align: middle;\n",
              "    }\n",
              "\n",
              "    .dataframe tbody tr th {\n",
              "        vertical-align: top;\n",
              "    }\n",
              "\n",
              "    .dataframe thead th {\n",
              "        text-align: right;\n",
              "    }\n",
              "</style>\n",
              "<table border=\"1\" class=\"dataframe\">\n",
              "  <thead>\n",
              "    <tr style=\"text-align: right;\">\n",
              "      <th></th>\n",
              "      <th>PhraseId</th>\n",
              "      <th>SentenceId</th>\n",
              "      <th>Phrase</th>\n",
              "      <th>Sentiment</th>\n",
              "    </tr>\n",
              "  </thead>\n",
              "  <tbody>\n",
              "    <tr>\n",
              "      <th>0</th>\n",
              "      <td>1</td>\n",
              "      <td>1</td>\n",
              "      <td>A series of escapades demonstrating the adage ...</td>\n",
              "      <td>1</td>\n",
              "    </tr>\n",
              "    <tr>\n",
              "      <th>1</th>\n",
              "      <td>2</td>\n",
              "      <td>1</td>\n",
              "      <td>A series of escapades demonstrating the adage ...</td>\n",
              "      <td>2</td>\n",
              "    </tr>\n",
              "    <tr>\n",
              "      <th>2</th>\n",
              "      <td>3</td>\n",
              "      <td>1</td>\n",
              "      <td>A series</td>\n",
              "      <td>2</td>\n",
              "    </tr>\n",
              "    <tr>\n",
              "      <th>3</th>\n",
              "      <td>4</td>\n",
              "      <td>1</td>\n",
              "      <td>A</td>\n",
              "      <td>2</td>\n",
              "    </tr>\n",
              "    <tr>\n",
              "      <th>4</th>\n",
              "      <td>5</td>\n",
              "      <td>1</td>\n",
              "      <td>series</td>\n",
              "      <td>2</td>\n",
              "    </tr>\n",
              "    <tr>\n",
              "      <th>5</th>\n",
              "      <td>6</td>\n",
              "      <td>1</td>\n",
              "      <td>of escapades demonstrating the adage that what...</td>\n",
              "      <td>2</td>\n",
              "    </tr>\n",
              "    <tr>\n",
              "      <th>6</th>\n",
              "      <td>7</td>\n",
              "      <td>1</td>\n",
              "      <td>of</td>\n",
              "      <td>2</td>\n",
              "    </tr>\n",
              "    <tr>\n",
              "      <th>7</th>\n",
              "      <td>8</td>\n",
              "      <td>1</td>\n",
              "      <td>escapades demonstrating the adage that what is...</td>\n",
              "      <td>2</td>\n",
              "    </tr>\n",
              "    <tr>\n",
              "      <th>8</th>\n",
              "      <td>9</td>\n",
              "      <td>1</td>\n",
              "      <td>escapades</td>\n",
              "      <td>2</td>\n",
              "    </tr>\n",
              "    <tr>\n",
              "      <th>9</th>\n",
              "      <td>10</td>\n",
              "      <td>1</td>\n",
              "      <td>demonstrating the adage that what is good for ...</td>\n",
              "      <td>2</td>\n",
              "    </tr>\n",
              "    <tr>\n",
              "      <th>10</th>\n",
              "      <td>11</td>\n",
              "      <td>1</td>\n",
              "      <td>demonstrating the adage</td>\n",
              "      <td>2</td>\n",
              "    </tr>\n",
              "    <tr>\n",
              "      <th>11</th>\n",
              "      <td>12</td>\n",
              "      <td>1</td>\n",
              "      <td>demonstrating</td>\n",
              "      <td>2</td>\n",
              "    </tr>\n",
              "    <tr>\n",
              "      <th>12</th>\n",
              "      <td>13</td>\n",
              "      <td>1</td>\n",
              "      <td>the adage</td>\n",
              "      <td>2</td>\n",
              "    </tr>\n",
              "    <tr>\n",
              "      <th>13</th>\n",
              "      <td>14</td>\n",
              "      <td>1</td>\n",
              "      <td>the</td>\n",
              "      <td>2</td>\n",
              "    </tr>\n",
              "    <tr>\n",
              "      <th>14</th>\n",
              "      <td>15</td>\n",
              "      <td>1</td>\n",
              "      <td>adage</td>\n",
              "      <td>2</td>\n",
              "    </tr>\n",
              "    <tr>\n",
              "      <th>15</th>\n",
              "      <td>16</td>\n",
              "      <td>1</td>\n",
              "      <td>that what is good for the goose</td>\n",
              "      <td>2</td>\n",
              "    </tr>\n",
              "    <tr>\n",
              "      <th>16</th>\n",
              "      <td>17</td>\n",
              "      <td>1</td>\n",
              "      <td>that</td>\n",
              "      <td>2</td>\n",
              "    </tr>\n",
              "    <tr>\n",
              "      <th>17</th>\n",
              "      <td>18</td>\n",
              "      <td>1</td>\n",
              "      <td>what is good for the goose</td>\n",
              "      <td>2</td>\n",
              "    </tr>\n",
              "    <tr>\n",
              "      <th>18</th>\n",
              "      <td>19</td>\n",
              "      <td>1</td>\n",
              "      <td>what</td>\n",
              "      <td>2</td>\n",
              "    </tr>\n",
              "    <tr>\n",
              "      <th>19</th>\n",
              "      <td>20</td>\n",
              "      <td>1</td>\n",
              "      <td>is good for the goose</td>\n",
              "      <td>2</td>\n",
              "    </tr>\n",
              "    <tr>\n",
              "      <th>20</th>\n",
              "      <td>21</td>\n",
              "      <td>1</td>\n",
              "      <td>is</td>\n",
              "      <td>2</td>\n",
              "    </tr>\n",
              "    <tr>\n",
              "      <th>21</th>\n",
              "      <td>22</td>\n",
              "      <td>1</td>\n",
              "      <td>good for the goose</td>\n",
              "      <td>3</td>\n",
              "    </tr>\n",
              "    <tr>\n",
              "      <th>22</th>\n",
              "      <td>23</td>\n",
              "      <td>1</td>\n",
              "      <td>good</td>\n",
              "      <td>3</td>\n",
              "    </tr>\n",
              "    <tr>\n",
              "      <th>23</th>\n",
              "      <td>24</td>\n",
              "      <td>1</td>\n",
              "      <td>for the goose</td>\n",
              "      <td>2</td>\n",
              "    </tr>\n",
              "    <tr>\n",
              "      <th>24</th>\n",
              "      <td>25</td>\n",
              "      <td>1</td>\n",
              "      <td>for</td>\n",
              "      <td>2</td>\n",
              "    </tr>\n",
              "  </tbody>\n",
              "</table>\n",
              "</div>"
            ],
            "text/plain": [
              "    PhraseId  SentenceId                                             Phrase  \\\n",
              "0          1           1  A series of escapades demonstrating the adage ...   \n",
              "1          2           1  A series of escapades demonstrating the adage ...   \n",
              "2          3           1                                           A series   \n",
              "3          4           1                                                  A   \n",
              "4          5           1                                             series   \n",
              "5          6           1  of escapades demonstrating the adage that what...   \n",
              "6          7           1                                                 of   \n",
              "7          8           1  escapades demonstrating the adage that what is...   \n",
              "8          9           1                                          escapades   \n",
              "9         10           1  demonstrating the adage that what is good for ...   \n",
              "10        11           1                            demonstrating the adage   \n",
              "11        12           1                                      demonstrating   \n",
              "12        13           1                                          the adage   \n",
              "13        14           1                                                the   \n",
              "14        15           1                                              adage   \n",
              "15        16           1                    that what is good for the goose   \n",
              "16        17           1                                               that   \n",
              "17        18           1                         what is good for the goose   \n",
              "18        19           1                                               what   \n",
              "19        20           1                              is good for the goose   \n",
              "20        21           1                                                 is   \n",
              "21        22           1                                 good for the goose   \n",
              "22        23           1                                               good   \n",
              "23        24           1                                      for the goose   \n",
              "24        25           1                                                for   \n",
              "\n",
              "    Sentiment  \n",
              "0           1  \n",
              "1           2  \n",
              "2           2  \n",
              "3           2  \n",
              "4           2  \n",
              "5           2  \n",
              "6           2  \n",
              "7           2  \n",
              "8           2  \n",
              "9           2  \n",
              "10          2  \n",
              "11          2  \n",
              "12          2  \n",
              "13          2  \n",
              "14          2  \n",
              "15          2  \n",
              "16          2  \n",
              "17          2  \n",
              "18          2  \n",
              "19          2  \n",
              "20          2  \n",
              "21          3  \n",
              "22          3  \n",
              "23          2  \n",
              "24          2  "
            ]
          },
          "execution_count": 3,
          "metadata": {},
          "output_type": "execute_result"
        }
      ],
      "source": [
        "# TODO: First 25 rows of the dataset\n",
        "df = pd.read_csv('sentiment.csv')\n",
        "df[0:25]"
      ]
    },
    {
      "cell_type": "code",
      "execution_count": null,
      "metadata": {
        "id": "Y_iZnNb1QAGo",
        "outputId": "25f53daf-abd4-4521-b995-2ced50f7512c"
      },
      "outputs": [
        {
          "data": {
            "text/html": [
              "<div>\n",
              "<style scoped>\n",
              "    .dataframe tbody tr th:only-of-type {\n",
              "        vertical-align: middle;\n",
              "    }\n",
              "\n",
              "    .dataframe tbody tr th {\n",
              "        vertical-align: top;\n",
              "    }\n",
              "\n",
              "    .dataframe thead th {\n",
              "        text-align: right;\n",
              "    }\n",
              "</style>\n",
              "<table border=\"1\" class=\"dataframe\">\n",
              "  <thead>\n",
              "    <tr style=\"text-align: right;\">\n",
              "      <th></th>\n",
              "      <th>PhraseId</th>\n",
              "      <th>SentenceId</th>\n",
              "      <th>Phrase</th>\n",
              "      <th>Sentiment</th>\n",
              "    </tr>\n",
              "  </thead>\n",
              "  <tbody>\n",
              "    <tr>\n",
              "      <th>9990</th>\n",
              "      <td>9991</td>\n",
              "      <td>419</td>\n",
              "      <td>this a comedy or serious drama</td>\n",
              "      <td>2</td>\n",
              "    </tr>\n",
              "    <tr>\n",
              "      <th>9991</th>\n",
              "      <td>9992</td>\n",
              "      <td>419</td>\n",
              "      <td>a comedy or serious drama</td>\n",
              "      <td>2</td>\n",
              "    </tr>\n",
              "    <tr>\n",
              "      <th>9992</th>\n",
              "      <td>9993</td>\n",
              "      <td>419</td>\n",
              "      <td>a comedy or</td>\n",
              "      <td>2</td>\n",
              "    </tr>\n",
              "    <tr>\n",
              "      <th>9993</th>\n",
              "      <td>9994</td>\n",
              "      <td>419</td>\n",
              "      <td>a comedy</td>\n",
              "      <td>2</td>\n",
              "    </tr>\n",
              "    <tr>\n",
              "      <th>9994</th>\n",
              "      <td>9995</td>\n",
              "      <td>419</td>\n",
              "      <td>serious drama</td>\n",
              "      <td>2</td>\n",
              "    </tr>\n",
              "    <tr>\n",
              "      <th>9995</th>\n",
              "      <td>9996</td>\n",
              "      <td>420</td>\n",
              "      <td>plays like some corny television production fr...</td>\n",
              "      <td>1</td>\n",
              "    </tr>\n",
              "    <tr>\n",
              "      <th>9996</th>\n",
              "      <td>9997</td>\n",
              "      <td>420</td>\n",
              "      <td>plays like some corny television</td>\n",
              "      <td>1</td>\n",
              "    </tr>\n",
              "    <tr>\n",
              "      <th>9997</th>\n",
              "      <td>9998</td>\n",
              "      <td>420</td>\n",
              "      <td>like some corny television</td>\n",
              "      <td>2</td>\n",
              "    </tr>\n",
              "    <tr>\n",
              "      <th>9998</th>\n",
              "      <td>9999</td>\n",
              "      <td>420</td>\n",
              "      <td>some corny television</td>\n",
              "      <td>1</td>\n",
              "    </tr>\n",
              "    <tr>\n",
              "      <th>9999</th>\n",
              "      <td>10000</td>\n",
              "      <td>420</td>\n",
              "      <td>corny television</td>\n",
              "      <td>1</td>\n",
              "    </tr>\n",
              "  </tbody>\n",
              "</table>\n",
              "</div>"
            ],
            "text/plain": [
              "      PhraseId  SentenceId                                             Phrase  \\\n",
              "9990      9991         419                     this a comedy or serious drama   \n",
              "9991      9992         419                          a comedy or serious drama   \n",
              "9992      9993         419                                        a comedy or   \n",
              "9993      9994         419                                           a comedy   \n",
              "9994      9995         419                                      serious drama   \n",
              "9995      9996         420  plays like some corny television production fr...   \n",
              "9996      9997         420                   plays like some corny television   \n",
              "9997      9998         420                         like some corny television   \n",
              "9998      9999         420                              some corny television   \n",
              "9999     10000         420                                   corny television   \n",
              "\n",
              "      Sentiment  \n",
              "9990          2  \n",
              "9991          2  \n",
              "9992          2  \n",
              "9993          2  \n",
              "9994          2  \n",
              "9995          1  \n",
              "9996          1  \n",
              "9997          2  \n",
              "9998          1  \n",
              "9999          1  "
            ]
          },
          "execution_count": 4,
          "metadata": {},
          "output_type": "execute_result"
        }
      ],
      "source": [
        "# TODO: Last 10 rows of the dataset\n",
        "n = len(df)\n",
        "df[n - 10 : n ]"
      ]
    },
    {
      "cell_type": "code",
      "execution_count": null,
      "metadata": {
        "id": "Auj2LDuEQAGp",
        "outputId": "71eec4ad-e3c5-4873-dcbb-85bf96bb92f4"
      },
      "outputs": [
        {
          "name": "stdout",
          "output_type": "stream",
          "text": [
            "0           1\n",
            "1           2\n",
            "2           3\n",
            "3           4\n",
            "4           5\n",
            "        ...  \n",
            "9995     9996\n",
            "9996     9997\n",
            "9997     9998\n",
            "9998     9999\n",
            "9999    10000\n",
            "Name: PhraseId, Length: 10000, dtype: int64\n",
            "0         1\n",
            "1         1\n",
            "2         1\n",
            "3         1\n",
            "4         1\n",
            "       ... \n",
            "9995    420\n",
            "9996    420\n",
            "9997    420\n",
            "9998    420\n",
            "9999    420\n",
            "Name: SentenceId, Length: 10000, dtype: int64\n",
            "0       A series of escapades demonstrating the adage ...\n",
            "1       A series of escapades demonstrating the adage ...\n",
            "2                                                A series\n",
            "3                                                       A\n",
            "4                                                  series\n",
            "                              ...                        \n",
            "9995    plays like some corny television production fr...\n",
            "9996                     plays like some corny television\n",
            "9997                           like some corny television\n",
            "9998                                some corny television\n",
            "9999                                     corny television\n",
            "Name: Phrase, Length: 10000, dtype: object\n",
            "0       1\n",
            "1       2\n",
            "2       2\n",
            "3       2\n",
            "4       2\n",
            "       ..\n",
            "9995    1\n",
            "9996    1\n",
            "9997    2\n",
            "9998    1\n",
            "9999    1\n",
            "Name: Sentiment, Length: 10000, dtype: int64\n"
          ]
        }
      ],
      "source": [
        "# TODO: information of columns\n",
        "print(df['PhraseId'])\n",
        "print(df['SentenceId'])\n",
        "print(df['Phrase'])\n",
        "print(df['Sentiment'])"
      ]
    },
    {
      "cell_type": "code",
      "execution_count": null,
      "metadata": {
        "id": "SI0Mc98VQAGq",
        "outputId": "36b9a888-beb2-4ad6-f914-f26b408311c0"
      },
      "outputs": [
        {
          "data": {
            "text/plain": [
              "(array([ 381.,    0., 1633.,    0.,    0., 5638.,    0., 1860.,    0.,\n",
              "         488.]),\n",
              " array([0. , 0.4, 0.8, 1.2, 1.6, 2. , 2.4, 2.8, 3.2, 3.6, 4. ]),\n",
              " <BarContainer object of 10 artists>)"
            ]
          },
          "execution_count": 6,
          "metadata": {},
          "output_type": "execute_result"
        },
        {
          "data": {
            "image/png": "[encoded data removed]",
            "text/plain": [
              "<Figure size 432x288 with 1 Axes>"
            ]
          },
          "metadata": {
            "needs_background": "light"
          },
          "output_type": "display_data"
        }
      ],
      "source": [
        "# TODO: histogram of sentiment scores\n",
        "from matplotlib.colors import ListedColormap\n",
        "x = df['PhraseId']\n",
        "y = df['Sentiment']\n",
        "plt.hist(y)"
      ]
    },
    {
      "cell_type": "markdown",
      "metadata": {
        "id": "dPa2KhGYQAGr"
      },
      "source": [
        "Each sample contains a sentence or phrase which is a review comment about a movie, with is corresponding sentiment score which can be the following:\n",
        "- 0 : negative\n",
        "- 1 : somehow negative\n",
        "- 2 : neutral\n",
        "- 3 : somehow positive\n",
        "- 4 : positive"
      ]
    },
    {
      "cell_type": "markdown",
      "metadata": {
        "id": "7b9ccUEQQAGs"
      },
      "source": [
        "### Preprocess the text data\n",
        "In order to prepare our text data for regression analysis, we have to follow these steps:\n",
        "1. Convert all text and words into lowercase\n",
        "2. Removing punctuation marks such as exclamation marks, question marks, etc.\n",
        "3. Creating a list of stop-words. Stop words are words that are frequently used in a language but typically do not carry significant meaning or contribute much to the sentiment of a sentence e.g. 'and', 'the', 'is', etc. **(Hint: use \"re\" package)**\n",
        "4. Break down the text into individual words or tokens. Tokenization is a fundamental step that helps in analyzing the text at a granular level.\n",
        "\n",
        "Comlpete the **\"preprocess_text(text)\"** function on the following code cell.\n",
        "\n",
        "``(5 pt.)``"
      ]
    },
    {
      "cell_type": "code",
      "execution_count": null,
      "metadata": {
        "id": "Qd5SvUjqQAGs",
        "outputId": "cc82f95f-bee9-4db3-873a-2d1b6cac1033"
      },
      "outputs": [
        {
          "name": "stderr",
          "output_type": "stream",
          "text": [
            "[nltk_data] Downloading package stopwords to\n",
            "[nltk_data]     C:\\Users\\HAMRAH\\AppData\\Roaming\\nltk_data...\n",
            "[nltk_data]   Package stopwords is already up-to-date!\n"
          ]
        },
        {
          "data": {
            "text/plain": [
              "True"
            ]
          },
          "execution_count": 56,
          "metadata": {},
          "output_type": "execute_result"
        }
      ],
      "source": [
        "import nltk\n",
        "from nltk.corpus import stopwords\n",
        "\n",
        "nltk.download('stopwords')"
      ]
    },
    {
      "cell_type": "code",
      "execution_count": null,
      "metadata": {
        "id": "XWwiTHBsQAGt"
      },
      "outputs": [],
      "source": [
        "def preprocess_text(text):\n",
        "    stop_words = set(stopwords.words('english'))\n",
        "    # TODO:\n",
        "    word_tokens = word_tokenize(text)\n",
        "    filtered_tokens = [w for w in word_tokens if not w.lower() in stop_words]\n",
        "    text = ' '.join(filtered_tokens)\n",
        "\n",
        "    return text"
      ]
    },
    {
      "cell_type": "code",
      "execution_count": null,
      "metadata": {
        "id": "TjBlziITQAGv"
      },
      "outputs": [],
      "source": [
        "# TODO: Apply the preprocessing function to the text column\n",
        "texts = df['Phrase']\n",
        "new_texts = []\n",
        "for key,value in texts.iteritems() :\n",
        "    new_texts.append(preprocess_text(value))"
      ]
    },
    {
      "cell_type": "code",
      "execution_count": null,
      "metadata": {
        "id": "Njy1FGTHQAGw",
        "outputId": "ec4baf0a-e493-46d8-d647-94b8237c7e2d"
      },
      "outputs": [
        {
          "name": "stderr",
          "output_type": "stream",
          "text": [
            "[nltk_data] Downloading package punkt to\n",
            "[nltk_data]     C:\\Users\\HAMRAH\\AppData\\Roaming\\nltk_data...\n",
            "[nltk_data]   Unzipping tokenizers\\punkt.zip.\n"
          ]
        },
        {
          "data": {
            "text/plain": [
              "True"
            ]
          },
          "execution_count": 14,
          "metadata": {},
          "output_type": "execute_result"
        }
      ],
      "source": [
        "import nltk\n",
        "nltk.download('punkt')"
      ]
    },
    {
      "cell_type": "markdown",
      "metadata": {
        "id": "_8ttiUjOQAGx"
      },
      "source": [
        "### Feature extraction\n",
        "Feature extraction involves converting the processed text data into a format suitable for input to a machine learning model. The goal is to represent the text data in a way that captures relevant information for sentiment analysis.\n",
        "\n",
        "Surf the net for the **\"Bag-of-Words\" (BoW)** technique. In a markdown cell explain this method and discuss how python built-in functions implement it.\n",
        "\n",
        "Based on what you learned, extract the features.\n",
        "\n",
        "``(10 pt.)``"
      ]
    },
    {
      "cell_type": "markdown",
      "metadata": {
        "id": "dXaDorvbQAGy"
      },
      "source": [
        "## <font color=\"red\"> TODO : discuss BoW method </font>\n",
        "Bag-of-Words is a representation of text that describes the occurrence of words within a document. We just keep track of word counts and disregard the grammatical details and the word order. It is called a “bag” of words because any information about the order or structure of words in the document is discarded. The model is only concerned with whether known words occur in the document, not where in the document.\n",
        "In python the counts of words is calculated then they are converted into vectors . we can use these vectors as the inputs of a machine learning algorithm"
      ]
    },
    {
      "cell_type": "code",
      "execution_count": null,
      "metadata": {
        "id": "iZ-WoIxUQAGy",
        "outputId": "3d40ba38-faa8-4d7e-b426-67d38d081408"
      },
      "outputs": [
        {
          "name": "stdout",
          "output_type": "stream",
          "text": [
            "  (0, 1922)\t1\n",
            "  (0, 688)\t1\n",
            "  (0, 533)\t1\n",
            "  (0, 43)\t1\n",
            "  (0, 916)\t2\n",
            "  (0, 920)\t1\n",
            "  (0, 74)\t1\n",
            "  (0, 879)\t1\n",
            "  (0, 1477)\t1\n",
            "  (0, 89)\t1\n",
            "  (0, 1459)\t1\n",
            "  (0, 88)\t1\n",
            "  (0, 1413)\t1\n",
            "  (0, 2074)\t1\n",
            "  (1, 1922)\t1\n",
            "  (1, 688)\t1\n",
            "  (1, 533)\t1\n",
            "  (1, 43)\t1\n",
            "  (1, 916)\t1\n",
            "  (1, 920)\t1\n",
            "  (2, 1922)\t1\n",
            "  (4, 1922)\t1\n",
            "  (5, 688)\t1\n",
            "  (5, 533)\t1\n",
            "  (5, 43)\t1\n",
            "  :\t:\n",
            "  (9991, 385)\t1\n",
            "  (9991, 598)\t1\n",
            "  (9991, 1923)\t1\n",
            "  (9992, 385)\t1\n",
            "  (9993, 385)\t1\n",
            "  (9994, 598)\t1\n",
            "  (9994, 1923)\t1\n",
            "  (9995, 1600)\t1\n",
            "  (9995, 1234)\t1\n",
            "  (9995, 270)\t1\n",
            "  (9995, 684)\t1\n",
            "  (9995, 447)\t1\n",
            "  (9995, 1670)\t1\n",
            "  (9995, 2173)\t1\n",
            "  (9996, 1600)\t1\n",
            "  (9996, 1234)\t1\n",
            "  (9996, 447)\t1\n",
            "  (9996, 2173)\t1\n",
            "  (9997, 1234)\t1\n",
            "  (9997, 447)\t1\n",
            "  (9997, 2173)\t1\n",
            "  (9998, 447)\t1\n",
            "  (9998, 2173)\t1\n",
            "  (9999, 447)\t1\n",
            "  (9999, 2173)\t1\n",
            "Encoded Document is:\n",
            "  (0, 43)\t1\n",
            "  (0, 74)\t1\n",
            "  (0, 88)\t1\n",
            "  (0, 89)\t1\n",
            "  (0, 533)\t1\n",
            "  (0, 688)\t1\n",
            "  (0, 879)\t1\n",
            "  (0, 916)\t2\n",
            "  (0, 920)\t1\n",
            "  (0, 1413)\t1\n",
            "  (0, 1459)\t1\n",
            "  (0, 1477)\t1\n",
            "  (0, 1922)\t1\n",
            "  (0, 2074)\t1\n",
            "  (1, 43)\t1\n",
            "  (1, 533)\t1\n",
            "  (1, 688)\t1\n",
            "  (1, 916)\t1\n",
            "  (1, 920)\t1\n",
            "  (1, 1922)\t1\n",
            "  (2, 1922)\t1\n",
            "  (4, 1922)\t1\n",
            "  (5, 43)\t1\n",
            "  (5, 533)\t1\n",
            "  (5, 688)\t1\n",
            "  :\t:\n",
            "  (9991, 385)\t1\n",
            "  (9991, 598)\t1\n",
            "  (9991, 1923)\t1\n",
            "  (9992, 385)\t1\n",
            "  (9993, 385)\t1\n",
            "  (9994, 598)\t1\n",
            "  (9994, 1923)\t1\n",
            "  (9995, 270)\t1\n",
            "  (9995, 447)\t1\n",
            "  (9995, 684)\t1\n",
            "  (9995, 1234)\t1\n",
            "  (9995, 1600)\t1\n",
            "  (9995, 1670)\t1\n",
            "  (9995, 2173)\t1\n",
            "  (9996, 447)\t1\n",
            "  (9996, 1234)\t1\n",
            "  (9996, 1600)\t1\n",
            "  (9996, 2173)\t1\n",
            "  (9997, 447)\t1\n",
            "  (9997, 1234)\t1\n",
            "  (9997, 2173)\t1\n",
            "  (9998, 447)\t1\n",
            "  (9998, 2173)\t1\n",
            "  (9999, 447)\t1\n",
            "  (9999, 2173)\t1\n"
          ]
        }
      ],
      "source": [
        "cv = CountVectorizer()\n",
        "text_counts = cv.fit_transform(new_texts)\n",
        "print(text_counts)\n",
        "\n",
        "vec = CountVectorizer()\n",
        "\n",
        "vec.fit(new_texts)\n",
        "vector = vec.transform(new_texts)"
      ]
    },
    {
      "cell_type": "markdown",
      "metadata": {
        "id": "rkE7T2o0QAGz"
      },
      "source": [
        "### Regression model\n",
        "\n",
        "1. Split the dataset into training and testing sets using an appropriate ratio.\n",
        "2. Train and fit a linear regression model to the train data\n",
        "3. Evaluate the model's performance on the testing set. Calculate suitable evaluation metrics, such as mean squared error (MSE)\n",
        "\n",
        "**Note: Feel free to use built-in functions for this section**\n",
        "\n",
        "``(5 pt.)``"
      ]
    },
    {
      "cell_type": "code",
      "execution_count": null,
      "metadata": {
        "id": "FzgHnbiWQAG0",
        "outputId": "df0b779b-accb-42ca-b95f-65080b34921f"
      },
      "outputs": [
        {
          "name": "stdout",
          "output_type": "stream",
          "text": [
            "0.43116270803613116\n"
          ]
        }
      ],
      "source": [
        "# TODO: Split the dataset into training and testing sets\n",
        "x_train, x_test, y_train, y_test = train_test_split(text_counts, df['Sentiment'], test_size=0.25, random_state=5)\n",
        "\n",
        "\n",
        "# TODO: Train a linear regression model\n",
        "model = LinearRegression()\n",
        "model.fit(x_train, y_train)\n",
        "\n",
        "\n",
        "\n",
        "# TODO: Make predictions on the testing set\n",
        "y_pred = model.predict(x_test)\n",
        "\n",
        "# TODO: Evaluate the model using mean squared error\n",
        "ms_error = mean_squared_error(y_test, y_pred)\n",
        "print(ms_error)\n",
        "#r2 = r2_score(y_test, y_pred)\n"
      ]
    },
    {
      "cell_type": "markdown",
      "metadata": {
        "id": "n0_K9y_rQAG1"
      },
      "source": [
        "### Visualization\n",
        "\n",
        "Visualize and scatter plot the actual vs. predicted sentiment scores for the model. Briefly interpret the results in a markdown cell.\n",
        "\n",
        "``(5 pt.)``"
      ]
    },
    {
      "cell_type": "code",
      "execution_count": null,
      "metadata": {
        "id": "ahQ03vX-QAG1",
        "outputId": "5eef6d62-30e6-4325-b338-ade76b0debf8"
      },
      "outputs": [
        {
          "data": {
            "image/png": "[encoded data removed]",
            "text/plain": [
              "<Figure size 432x288 with 1 Axes>"
            ]
          },
          "metadata": {
            "needs_background": "light"
          },
          "output_type": "display_data"
        },
        {
          "data": {
            "image/png": "[encoded data removed]",
            "text/plain": [
              "<Figure size 432x288 with 1 Axes>"
            ]
          },
          "metadata": {
            "needs_background": "light"
          },
          "output_type": "display_data"
        }
      ],
      "source": [
        "t = range(len(y_pred))\n",
        "\n",
        "plt.scatter(t, y_test,label = 'actual')\n",
        "plt.scatter(t , y_pred , label = 'predicted')\n",
        "plt.legend()\n",
        "#plt.xlim(0 , 10)\n",
        "plt.show()\n",
        "plt.scatter(t, y_test,label = 'actual')\n",
        "plt.scatter(t , y_pred , label = 'predicted')\n",
        "plt.xlim(0 , 10)\n",
        "plt.legend()\n",
        "plt.show()\n"
      ]
    },
    {
      "cell_type": "markdown",
      "metadata": {
        "id": "biwO80ZlQAG2"
      },
      "source": [
        "## <font color=\"red\"> Discuss the resulted figure </font>\n",
        "the values are modeled using a linear regression model. because we are using a model it is not surprising that we would have some amount of error as we can see in the figure"
      ]
    },
    {
      "cell_type": "markdown",
      "metadata": {
        "id": "EfDz_OGaQAG2"
      },
      "source": [
        "In the previous section you extracted the features using sklearn built-in function. In this section you are asked to implement and create the feature matrix from scratch.\n",
        "\n",
        "``(10 pt.)``"
      ]
    },
    {
      "cell_type": "code",
      "execution_count": null,
      "metadata": {
        "id": "_BiohNlTQAG2"
      },
      "outputs": [],
      "source": []
    }
  ],
  "metadata": {
    "kernelspec": {
      "display_name": "Python 3 (ipykernel)",
      "language": "python",
      "name": "python3"
    },
    "language_info": {
      "codemirror_mode": {
        "name": "ipython",
        "version": 3
      },
      "file_extension": ".py",
      "mimetype": "text/x-python",
      "name": "python",
      "nbconvert_exporter": "python",
      "pygments_lexer": "ipython3",
      "version": "3.9.12"
    },
    "colab": {
      "provenance": [],
      "include_colab_link": true
    }
  },
  "nbformat": 4,
  "nbformat_minor": 0
}